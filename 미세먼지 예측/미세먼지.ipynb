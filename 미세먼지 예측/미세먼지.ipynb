{
 "cells": [
  {
   "cell_type": "code",
   "execution_count": 1,
   "id": "d7c2ffb8",
   "metadata": {},
   "outputs": [],
   "source": [
    "import pandas as pd\n",
    "import numpy as np\n",
    "import tensorflow as tf\n",
    "from tensorflow import keras\n",
    "from matplotlib import pyplot as plt\n",
    "import warnings\n",
    "from tensorflow.keras.utils import plot_model\n",
    "warnings.filterwarnings('ignore')"
   ]
  },
  {
   "cell_type": "markdown",
   "id": "37a1a354",
   "metadata": {},
   "source": [
    "데이터 불러오기, 전처리"
   ]
  },
  {
   "cell_type": "code",
   "execution_count": 2,
   "id": "d9590320",
   "metadata": {},
   "outputs": [],
   "source": [
    "# 데이터 불러오기\n",
    "data_df = pd.read_excel('./미세먼지데이터.xlsx')"
   ]
  },
  {
   "cell_type": "code",
   "execution_count": 3,
   "id": "ee8e1845",
   "metadata": {},
   "outputs": [],
   "source": [
    "# 구별 인덱싱\n",
    "data_df['측정소명'] = data_df['측정소명'].map({'강남구':0, '강동구':1, '강북구':2, '강서구':3, '관악구':4, '광진구':5,\n",
    "                                      '구로구':6, '금천구':7, '노원구':8, '도봉구':9, '동대문구':10, '동작구':11,\n",
    "                                      '마포구':12, '서대문구':13, '서초구':14, '성동구':15, '성북구':16,\n",
    "                                       '송파구':17, '양천구':18, '영등포구':19, '용산구':20, '은평구':21,\n",
    "                                      '종로구':22, '중구':23, '중랑구':24})"
   ]
  },
  {
   "cell_type": "code",
   "execution_count": 4,
   "id": "28ee0394",
   "metadata": {
    "scrolled": true
   },
   "outputs": [
    {
     "data": {
      "text/html": [
       "<div>\n",
       "<style scoped>\n",
       "    .dataframe tbody tr th:only-of-type {\n",
       "        vertical-align: middle;\n",
       "    }\n",
       "\n",
       "    .dataframe tbody tr th {\n",
       "        vertical-align: top;\n",
       "    }\n",
       "\n",
       "    .dataframe thead th {\n",
       "        text-align: right;\n",
       "    }\n",
       "</style>\n",
       "<table border=\"1\" class=\"dataframe\">\n",
       "  <thead>\n",
       "    <tr style=\"text-align: right;\">\n",
       "      <th></th>\n",
       "      <th>측정일시</th>\n",
       "      <th>측정소명</th>\n",
       "      <th>이산화질소농도(ppm)</th>\n",
       "      <th>오존농도(ppm)</th>\n",
       "      <th>일산화탄소농도(ppm)</th>\n",
       "      <th>아황산가스(ppm)</th>\n",
       "      <th>미세먼지(㎍/㎥)</th>\n",
       "      <th>초미세먼지(㎍/㎥)</th>\n",
       "    </tr>\n",
       "  </thead>\n",
       "  <tbody>\n",
       "    <tr>\n",
       "      <th>0</th>\n",
       "      <td>20170101</td>\n",
       "      <td>0.0</td>\n",
       "      <td>0.040</td>\n",
       "      <td>0.002</td>\n",
       "      <td>0.8</td>\n",
       "      <td>0.005</td>\n",
       "      <td>80.0</td>\n",
       "      <td>58.0</td>\n",
       "    </tr>\n",
       "    <tr>\n",
       "      <th>1</th>\n",
       "      <td>20170101</td>\n",
       "      <td>NaN</td>\n",
       "      <td>0.082</td>\n",
       "      <td>0.005</td>\n",
       "      <td>1.4</td>\n",
       "      <td>0.007</td>\n",
       "      <td>83.0</td>\n",
       "      <td>58.0</td>\n",
       "    </tr>\n",
       "    <tr>\n",
       "      <th>2</th>\n",
       "      <td>20170101</td>\n",
       "      <td>1.0</td>\n",
       "      <td>0.039</td>\n",
       "      <td>0.003</td>\n",
       "      <td>0.8</td>\n",
       "      <td>0.004</td>\n",
       "      <td>80.0</td>\n",
       "      <td>54.0</td>\n",
       "    </tr>\n",
       "    <tr>\n",
       "      <th>3</th>\n",
       "      <td>20170101</td>\n",
       "      <td>NaN</td>\n",
       "      <td>0.042</td>\n",
       "      <td>0.003</td>\n",
       "      <td>0.8</td>\n",
       "      <td>0.004</td>\n",
       "      <td>81.0</td>\n",
       "      <td>NaN</td>\n",
       "    </tr>\n",
       "    <tr>\n",
       "      <th>4</th>\n",
       "      <td>20170101</td>\n",
       "      <td>2.0</td>\n",
       "      <td>0.046</td>\n",
       "      <td>0.003</td>\n",
       "      <td>1.0</td>\n",
       "      <td>0.005</td>\n",
       "      <td>78.0</td>\n",
       "      <td>65.0</td>\n",
       "    </tr>\n",
       "    <tr>\n",
       "      <th>...</th>\n",
       "      <td>...</td>\n",
       "      <td>...</td>\n",
       "      <td>...</td>\n",
       "      <td>...</td>\n",
       "      <td>...</td>\n",
       "      <td>...</td>\n",
       "      <td>...</td>\n",
       "      <td>...</td>\n",
       "    </tr>\n",
       "    <tr>\n",
       "      <th>79755</th>\n",
       "      <td>20211231</td>\n",
       "      <td>NaN</td>\n",
       "      <td>0.014</td>\n",
       "      <td>0.031</td>\n",
       "      <td>0.4</td>\n",
       "      <td>0.002</td>\n",
       "      <td>21.0</td>\n",
       "      <td>7.0</td>\n",
       "    </tr>\n",
       "    <tr>\n",
       "      <th>79756</th>\n",
       "      <td>20211231</td>\n",
       "      <td>NaN</td>\n",
       "      <td>0.023</td>\n",
       "      <td>0.020</td>\n",
       "      <td>0.4</td>\n",
       "      <td>0.003</td>\n",
       "      <td>32.0</td>\n",
       "      <td>10.0</td>\n",
       "    </tr>\n",
       "    <tr>\n",
       "      <th>79757</th>\n",
       "      <td>20211231</td>\n",
       "      <td>NaN</td>\n",
       "      <td>0.005</td>\n",
       "      <td>0.035</td>\n",
       "      <td>0.5</td>\n",
       "      <td>0.004</td>\n",
       "      <td>21.0</td>\n",
       "      <td>4.0</td>\n",
       "    </tr>\n",
       "    <tr>\n",
       "      <th>79758</th>\n",
       "      <td>20211231</td>\n",
       "      <td>NaN</td>\n",
       "      <td>0.019</td>\n",
       "      <td>0.025</td>\n",
       "      <td>0.4</td>\n",
       "      <td>0.004</td>\n",
       "      <td>29.0</td>\n",
       "      <td>8.0</td>\n",
       "    </tr>\n",
       "    <tr>\n",
       "      <th>79759</th>\n",
       "      <td>20211231</td>\n",
       "      <td>NaN</td>\n",
       "      <td>0.027</td>\n",
       "      <td>0.024</td>\n",
       "      <td>0.4</td>\n",
       "      <td>0.003</td>\n",
       "      <td>21.0</td>\n",
       "      <td>6.0</td>\n",
       "    </tr>\n",
       "  </tbody>\n",
       "</table>\n",
       "<p>79760 rows × 8 columns</p>\n",
       "</div>"
      ],
      "text/plain": [
       "           측정일시  측정소명  이산화질소농도(ppm)  오존농도(ppm)  일산화탄소농도(ppm)  아황산가스(ppm)  \\\n",
       "0      20170101   0.0         0.040      0.002           0.8       0.005   \n",
       "1      20170101   NaN         0.082      0.005           1.4       0.007   \n",
       "2      20170101   1.0         0.039      0.003           0.8       0.004   \n",
       "3      20170101   NaN         0.042      0.003           0.8       0.004   \n",
       "4      20170101   2.0         0.046      0.003           1.0       0.005   \n",
       "...         ...   ...           ...        ...           ...         ...   \n",
       "79755  20211231   NaN         0.014      0.031           0.4       0.002   \n",
       "79756  20211231   NaN         0.023      0.020           0.4       0.003   \n",
       "79757  20211231   NaN         0.005      0.035           0.5       0.004   \n",
       "79758  20211231   NaN         0.019      0.025           0.4       0.004   \n",
       "79759  20211231   NaN         0.027      0.024           0.4       0.003   \n",
       "\n",
       "       미세먼지(㎍/㎥)  초미세먼지(㎍/㎥)  \n",
       "0           80.0        58.0  \n",
       "1           83.0        58.0  \n",
       "2           80.0        54.0  \n",
       "3           81.0         NaN  \n",
       "4           78.0        65.0  \n",
       "...          ...         ...  \n",
       "79755       21.0         7.0  \n",
       "79756       32.0        10.0  \n",
       "79757       21.0         4.0  \n",
       "79758       29.0         8.0  \n",
       "79759       21.0         6.0  \n",
       "\n",
       "[79760 rows x 8 columns]"
      ]
     },
     "execution_count": 4,
     "metadata": {},
     "output_type": "execute_result"
    }
   ],
   "source": [
    "data_df"
   ]
  },
  {
   "cell_type": "code",
   "execution_count": 7,
   "id": "44ac660d",
   "metadata": {},
   "outputs": [],
   "source": [
    "# null값을 해당 데이터의 평균값으로 대체\n",
    "data_df['이산화질소농도(ppm)'] = data_df['이산화질소농도(ppm)'].fillna(data_df['이산화질소농도(ppm)'].mean()).astype(float)\n",
    "data_df['오존농도(ppm)'] = data_df['오존농도(ppm)'].fillna(data_df['오존농도(ppm)'].mean()).astype(float)\n",
    "data_df['일산화탄소농도(ppm)'] = data_df['일산화탄소농도(ppm)'].fillna(data_df['일산화탄소농도(ppm)'].mean()).astype(float)\n",
    "data_df['아황산가스(ppm)'] = data_df['아황산가스(ppm)'].fillna(data_df['아황산가스(ppm)'].mean()).astype(float)\n",
    "data_df['미세먼지(㎍/㎥)'] = data_df['미세먼지(㎍/㎥)'].fillna(data_df['미세먼지(㎍/㎥)'].mean()).astype(float)\n",
    "data_df['초미세먼지(㎍/㎥)'] = data_df['초미세먼지(㎍/㎥)'].fillna(data_df['초미세먼지(㎍/㎥)'].mean()).astype(float)"
   ]
  },
  {
   "cell_type": "code",
   "execution_count": 8,
   "id": "28ab06f6",
   "metadata": {},
   "outputs": [
    {
     "data": {
      "text/plain": [
       "측정일시                0\n",
       "측정소명            35885\n",
       "이산화질소농도(ppm)        0\n",
       "오존농도(ppm)           0\n",
       "일산화탄소농도(ppm)        0\n",
       "아황산가스(ppm)          0\n",
       "미세먼지(㎍/㎥)           0\n",
       "초미세먼지(㎍/㎥)          0\n",
       "dtype: int64"
      ]
     },
     "execution_count": 8,
     "metadata": {},
     "output_type": "execute_result"
    }
   ],
   "source": [
    "data_df.isnull().sum()"
   ]
  },
  {
   "cell_type": "code",
   "execution_count": 9,
   "id": "347fe98f",
   "metadata": {},
   "outputs": [
    {
     "data": {
      "text/html": [
       "<div>\n",
       "<style scoped>\n",
       "    .dataframe tbody tr th:only-of-type {\n",
       "        vertical-align: middle;\n",
       "    }\n",
       "\n",
       "    .dataframe tbody tr th {\n",
       "        vertical-align: top;\n",
       "    }\n",
       "\n",
       "    .dataframe thead th {\n",
       "        text-align: right;\n",
       "    }\n",
       "</style>\n",
       "<table border=\"1\" class=\"dataframe\">\n",
       "  <thead>\n",
       "    <tr style=\"text-align: right;\">\n",
       "      <th></th>\n",
       "      <th>측정일시</th>\n",
       "      <th>측정소명</th>\n",
       "      <th>이산화질소농도(ppm)</th>\n",
       "      <th>오존농도(ppm)</th>\n",
       "      <th>일산화탄소농도(ppm)</th>\n",
       "      <th>아황산가스(ppm)</th>\n",
       "      <th>미세먼지(㎍/㎥)</th>\n",
       "      <th>초미세먼지(㎍/㎥)</th>\n",
       "    </tr>\n",
       "  </thead>\n",
       "  <tbody>\n",
       "    <tr>\n",
       "      <th>0</th>\n",
       "      <td>20170101</td>\n",
       "      <td>0.0</td>\n",
       "      <td>0.040</td>\n",
       "      <td>0.002</td>\n",
       "      <td>0.8</td>\n",
       "      <td>0.005</td>\n",
       "      <td>80.0</td>\n",
       "      <td>58.0</td>\n",
       "    </tr>\n",
       "    <tr>\n",
       "      <th>2</th>\n",
       "      <td>20170101</td>\n",
       "      <td>1.0</td>\n",
       "      <td>0.039</td>\n",
       "      <td>0.003</td>\n",
       "      <td>0.8</td>\n",
       "      <td>0.004</td>\n",
       "      <td>80.0</td>\n",
       "      <td>54.0</td>\n",
       "    </tr>\n",
       "    <tr>\n",
       "      <th>4</th>\n",
       "      <td>20170101</td>\n",
       "      <td>2.0</td>\n",
       "      <td>0.046</td>\n",
       "      <td>0.003</td>\n",
       "      <td>1.0</td>\n",
       "      <td>0.005</td>\n",
       "      <td>78.0</td>\n",
       "      <td>65.0</td>\n",
       "    </tr>\n",
       "    <tr>\n",
       "      <th>5</th>\n",
       "      <td>20170101</td>\n",
       "      <td>3.0</td>\n",
       "      <td>0.053</td>\n",
       "      <td>0.005</td>\n",
       "      <td>1.0</td>\n",
       "      <td>0.006</td>\n",
       "      <td>75.0</td>\n",
       "      <td>54.0</td>\n",
       "    </tr>\n",
       "    <tr>\n",
       "      <th>7</th>\n",
       "      <td>20170101</td>\n",
       "      <td>4.0</td>\n",
       "      <td>0.064</td>\n",
       "      <td>0.005</td>\n",
       "      <td>1.3</td>\n",
       "      <td>0.006</td>\n",
       "      <td>75.0</td>\n",
       "      <td>56.0</td>\n",
       "    </tr>\n",
       "    <tr>\n",
       "      <th>...</th>\n",
       "      <td>...</td>\n",
       "      <td>...</td>\n",
       "      <td>...</td>\n",
       "      <td>...</td>\n",
       "      <td>...</td>\n",
       "      <td>...</td>\n",
       "      <td>...</td>\n",
       "      <td>...</td>\n",
       "    </tr>\n",
       "    <tr>\n",
       "      <th>79746</th>\n",
       "      <td>20211231</td>\n",
       "      <td>20.0</td>\n",
       "      <td>0.011</td>\n",
       "      <td>0.028</td>\n",
       "      <td>0.3</td>\n",
       "      <td>0.003</td>\n",
       "      <td>25.0</td>\n",
       "      <td>8.0</td>\n",
       "    </tr>\n",
       "    <tr>\n",
       "      <th>79747</th>\n",
       "      <td>20211231</td>\n",
       "      <td>21.0</td>\n",
       "      <td>0.014</td>\n",
       "      <td>0.028</td>\n",
       "      <td>0.8</td>\n",
       "      <td>0.004</td>\n",
       "      <td>26.0</td>\n",
       "      <td>8.0</td>\n",
       "    </tr>\n",
       "    <tr>\n",
       "      <th>79751</th>\n",
       "      <td>20211231</td>\n",
       "      <td>22.0</td>\n",
       "      <td>0.013</td>\n",
       "      <td>0.031</td>\n",
       "      <td>0.3</td>\n",
       "      <td>0.003</td>\n",
       "      <td>23.0</td>\n",
       "      <td>7.0</td>\n",
       "    </tr>\n",
       "    <tr>\n",
       "      <th>79752</th>\n",
       "      <td>20211231</td>\n",
       "      <td>23.0</td>\n",
       "      <td>0.013</td>\n",
       "      <td>0.033</td>\n",
       "      <td>0.3</td>\n",
       "      <td>0.003</td>\n",
       "      <td>20.0</td>\n",
       "      <td>6.0</td>\n",
       "    </tr>\n",
       "    <tr>\n",
       "      <th>79753</th>\n",
       "      <td>20211231</td>\n",
       "      <td>24.0</td>\n",
       "      <td>0.016</td>\n",
       "      <td>0.028</td>\n",
       "      <td>0.3</td>\n",
       "      <td>0.003</td>\n",
       "      <td>23.0</td>\n",
       "      <td>6.0</td>\n",
       "    </tr>\n",
       "  </tbody>\n",
       "</table>\n",
       "<p>43875 rows × 8 columns</p>\n",
       "</div>"
      ],
      "text/plain": [
       "           측정일시  측정소명  이산화질소농도(ppm)  오존농도(ppm)  일산화탄소농도(ppm)  아황산가스(ppm)  \\\n",
       "0      20170101   0.0         0.040      0.002           0.8       0.005   \n",
       "2      20170101   1.0         0.039      0.003           0.8       0.004   \n",
       "4      20170101   2.0         0.046      0.003           1.0       0.005   \n",
       "5      20170101   3.0         0.053      0.005           1.0       0.006   \n",
       "7      20170101   4.0         0.064      0.005           1.3       0.006   \n",
       "...         ...   ...           ...        ...           ...         ...   \n",
       "79746  20211231  20.0         0.011      0.028           0.3       0.003   \n",
       "79747  20211231  21.0         0.014      0.028           0.8       0.004   \n",
       "79751  20211231  22.0         0.013      0.031           0.3       0.003   \n",
       "79752  20211231  23.0         0.013      0.033           0.3       0.003   \n",
       "79753  20211231  24.0         0.016      0.028           0.3       0.003   \n",
       "\n",
       "       미세먼지(㎍/㎥)  초미세먼지(㎍/㎥)  \n",
       "0           80.0        58.0  \n",
       "2           80.0        54.0  \n",
       "4           78.0        65.0  \n",
       "5           75.0        54.0  \n",
       "7           75.0        56.0  \n",
       "...          ...         ...  \n",
       "79746       25.0         8.0  \n",
       "79747       26.0         8.0  \n",
       "79751       23.0         7.0  \n",
       "79752       20.0         6.0  \n",
       "79753       23.0         6.0  \n",
       "\n",
       "[43875 rows x 8 columns]"
      ]
     },
     "execution_count": 9,
     "metadata": {},
     "output_type": "execute_result"
    }
   ],
   "source": [
    "data_df = data_df.dropna(axis=0)\n",
    "data_df"
   ]
  },
  {
   "cell_type": "code",
   "execution_count": 10,
   "id": "3d510723",
   "metadata": {},
   "outputs": [
    {
     "data": {
      "text/plain": [
       "측정일시            0\n",
       "측정소명            0\n",
       "이산화질소농도(ppm)    0\n",
       "오존농도(ppm)       0\n",
       "일산화탄소농도(ppm)    0\n",
       "아황산가스(ppm)      0\n",
       "미세먼지(㎍/㎥)       0\n",
       "초미세먼지(㎍/㎥)      0\n",
       "dtype: int64"
      ]
     },
     "execution_count": 10,
     "metadata": {},
     "output_type": "execute_result"
    }
   ],
   "source": [
    "data_df.isnull().sum()"
   ]
  },
  {
   "cell_type": "markdown",
   "id": "5be4c337",
   "metadata": {
    "scrolled": true
   },
   "source": [
    "data_df = [(data_df['측정소명']>=0)]\n",
    "data_df"
   ]
  },
  {
   "cell_type": "markdown",
   "id": "bc507efd",
   "metadata": {},
   "source": [
    "data_df = data_df[(data_df['측정일시']>20161231)]\n",
    "data_df"
   ]
  },
  {
   "cell_type": "code",
   "execution_count": 11,
   "id": "e6e64962",
   "metadata": {},
   "outputs": [],
   "source": [
    "# 데이터 정규화\n",
    "def MinMaxScaler(data):\n",
    "    numerator = data - np.min(data, 0)\n",
    "    denominator = np.max(data, 0) - np.min(data, 0)\n",
    "    return numerator / (denominator + 1e-7), np.min(data, 0), np.max(data, 0)"
   ]
  },
  {
   "cell_type": "code",
   "execution_count": 12,
   "id": "415fe26e",
   "metadata": {},
   "outputs": [
    {
     "data": {
      "text/plain": [
       "(43875, 8)"
      ]
     },
     "execution_count": 12,
     "metadata": {},
     "output_type": "execute_result"
    }
   ],
   "source": [
    "data_df.shape"
   ]
  },
  {
   "cell_type": "code",
   "execution_count": 13,
   "id": "18aa8fb1",
   "metadata": {},
   "outputs": [
    {
     "data": {
      "text/plain": [
       "2"
      ]
     },
     "execution_count": 13,
     "metadata": {},
     "output_type": "execute_result"
    }
   ],
   "source": [
    "data_df.ndim"
   ]
  },
  {
   "cell_type": "code",
   "execution_count": 14,
   "id": "c3d12d20",
   "metadata": {},
   "outputs": [],
   "source": [
    "data_dff = data_df.iloc[:,2:]"
   ]
  },
  {
   "cell_type": "code",
   "execution_count": 15,
   "id": "d105b9e1",
   "metadata": {},
   "outputs": [
    {
     "data": {
      "text/plain": [
       "이산화질소농도(ppm)    0\n",
       "오존농도(ppm)       0\n",
       "일산화탄소농도(ppm)    0\n",
       "아황산가스(ppm)      0\n",
       "미세먼지(㎍/㎥)       0\n",
       "초미세먼지(㎍/㎥)      0\n",
       "dtype: int64"
      ]
     },
     "execution_count": 15,
     "metadata": {},
     "output_type": "execute_result"
    }
   ],
   "source": [
    "data_dff.isnull().sum()"
   ]
  },
  {
   "cell_type": "code",
   "execution_count": 16,
   "id": "46212e2c",
   "metadata": {},
   "outputs": [
    {
     "data": {
      "text/html": [
       "<div>\n",
       "<style scoped>\n",
       "    .dataframe tbody tr th:only-of-type {\n",
       "        vertical-align: middle;\n",
       "    }\n",
       "\n",
       "    .dataframe tbody tr th {\n",
       "        vertical-align: top;\n",
       "    }\n",
       "\n",
       "    .dataframe thead th {\n",
       "        text-align: right;\n",
       "    }\n",
       "</style>\n",
       "<table border=\"1\" class=\"dataframe\">\n",
       "  <thead>\n",
       "    <tr style=\"text-align: right;\">\n",
       "      <th></th>\n",
       "      <th>이산화질소농도(ppm)</th>\n",
       "      <th>오존농도(ppm)</th>\n",
       "      <th>일산화탄소농도(ppm)</th>\n",
       "      <th>아황산가스(ppm)</th>\n",
       "      <th>미세먼지(㎍/㎥)</th>\n",
       "      <th>초미세먼지(㎍/㎥)</th>\n",
       "    </tr>\n",
       "  </thead>\n",
       "  <tbody>\n",
       "    <tr>\n",
       "      <th>0</th>\n",
       "      <td>0.040</td>\n",
       "      <td>0.002</td>\n",
       "      <td>0.8</td>\n",
       "      <td>0.005</td>\n",
       "      <td>80.0</td>\n",
       "      <td>58.0</td>\n",
       "    </tr>\n",
       "    <tr>\n",
       "      <th>2</th>\n",
       "      <td>0.039</td>\n",
       "      <td>0.003</td>\n",
       "      <td>0.8</td>\n",
       "      <td>0.004</td>\n",
       "      <td>80.0</td>\n",
       "      <td>54.0</td>\n",
       "    </tr>\n",
       "    <tr>\n",
       "      <th>4</th>\n",
       "      <td>0.046</td>\n",
       "      <td>0.003</td>\n",
       "      <td>1.0</td>\n",
       "      <td>0.005</td>\n",
       "      <td>78.0</td>\n",
       "      <td>65.0</td>\n",
       "    </tr>\n",
       "    <tr>\n",
       "      <th>5</th>\n",
       "      <td>0.053</td>\n",
       "      <td>0.005</td>\n",
       "      <td>1.0</td>\n",
       "      <td>0.006</td>\n",
       "      <td>75.0</td>\n",
       "      <td>54.0</td>\n",
       "    </tr>\n",
       "    <tr>\n",
       "      <th>7</th>\n",
       "      <td>0.064</td>\n",
       "      <td>0.005</td>\n",
       "      <td>1.3</td>\n",
       "      <td>0.006</td>\n",
       "      <td>75.0</td>\n",
       "      <td>56.0</td>\n",
       "    </tr>\n",
       "    <tr>\n",
       "      <th>...</th>\n",
       "      <td>...</td>\n",
       "      <td>...</td>\n",
       "      <td>...</td>\n",
       "      <td>...</td>\n",
       "      <td>...</td>\n",
       "      <td>...</td>\n",
       "    </tr>\n",
       "    <tr>\n",
       "      <th>79746</th>\n",
       "      <td>0.011</td>\n",
       "      <td>0.028</td>\n",
       "      <td>0.3</td>\n",
       "      <td>0.003</td>\n",
       "      <td>25.0</td>\n",
       "      <td>8.0</td>\n",
       "    </tr>\n",
       "    <tr>\n",
       "      <th>79747</th>\n",
       "      <td>0.014</td>\n",
       "      <td>0.028</td>\n",
       "      <td>0.8</td>\n",
       "      <td>0.004</td>\n",
       "      <td>26.0</td>\n",
       "      <td>8.0</td>\n",
       "    </tr>\n",
       "    <tr>\n",
       "      <th>79751</th>\n",
       "      <td>0.013</td>\n",
       "      <td>0.031</td>\n",
       "      <td>0.3</td>\n",
       "      <td>0.003</td>\n",
       "      <td>23.0</td>\n",
       "      <td>7.0</td>\n",
       "    </tr>\n",
       "    <tr>\n",
       "      <th>79752</th>\n",
       "      <td>0.013</td>\n",
       "      <td>0.033</td>\n",
       "      <td>0.3</td>\n",
       "      <td>0.003</td>\n",
       "      <td>20.0</td>\n",
       "      <td>6.0</td>\n",
       "    </tr>\n",
       "    <tr>\n",
       "      <th>79753</th>\n",
       "      <td>0.016</td>\n",
       "      <td>0.028</td>\n",
       "      <td>0.3</td>\n",
       "      <td>0.003</td>\n",
       "      <td>23.0</td>\n",
       "      <td>6.0</td>\n",
       "    </tr>\n",
       "  </tbody>\n",
       "</table>\n",
       "<p>43875 rows × 6 columns</p>\n",
       "</div>"
      ],
      "text/plain": [
       "       이산화질소농도(ppm)  오존농도(ppm)  일산화탄소농도(ppm)  아황산가스(ppm)  미세먼지(㎍/㎥)  \\\n",
       "0             0.040      0.002           0.8       0.005       80.0   \n",
       "2             0.039      0.003           0.8       0.004       80.0   \n",
       "4             0.046      0.003           1.0       0.005       78.0   \n",
       "5             0.053      0.005           1.0       0.006       75.0   \n",
       "7             0.064      0.005           1.3       0.006       75.0   \n",
       "...             ...        ...           ...         ...        ...   \n",
       "79746         0.011      0.028           0.3       0.003       25.0   \n",
       "79747         0.014      0.028           0.8       0.004       26.0   \n",
       "79751         0.013      0.031           0.3       0.003       23.0   \n",
       "79752         0.013      0.033           0.3       0.003       20.0   \n",
       "79753         0.016      0.028           0.3       0.003       23.0   \n",
       "\n",
       "       초미세먼지(㎍/㎥)  \n",
       "0            58.0  \n",
       "2            54.0  \n",
       "4            65.0  \n",
       "5            54.0  \n",
       "7            56.0  \n",
       "...           ...  \n",
       "79746         8.0  \n",
       "79747         8.0  \n",
       "79751         7.0  \n",
       "79752         6.0  \n",
       "79753         6.0  \n",
       "\n",
       "[43875 rows x 6 columns]"
      ]
     },
     "execution_count": 16,
     "metadata": {},
     "output_type": "execute_result"
    }
   ],
   "source": [
    "data_dff"
   ]
  },
  {
   "cell_type": "code",
   "execution_count": 17,
   "id": "bb252e3a",
   "metadata": {
    "scrolled": true
   },
   "outputs": [
    {
     "ename": "ValueError",
     "evalue": "Must pass 2-d input. shape=(1755, 25, 6, 1)",
     "output_type": "error",
     "traceback": [
      "\u001b[1;31m---------------------------------------------------------------------------\u001b[0m",
      "\u001b[1;31mValueError\u001b[0m                                Traceback (most recent call last)",
      "\u001b[1;32m~\\AppData\\Local\\Temp/ipykernel_9804/3697468097.py\u001b[0m in \u001b[0;36m<module>\u001b[1;34m\u001b[0m\n\u001b[0;32m      1\u001b[0m \u001b[1;31m# CNN을 위해 25(지역구 수), 6(속성 수)의 이미지 형태로 변환\u001b[0m\u001b[1;33m\u001b[0m\u001b[1;33m\u001b[0m\u001b[1;33m\u001b[0m\u001b[0m\n\u001b[1;32m----> 2\u001b[1;33m \u001b[0mdata\u001b[0m \u001b[1;33m=\u001b[0m \u001b[0mnp\u001b[0m\u001b[1;33m.\u001b[0m\u001b[0mreshape\u001b[0m\u001b[1;33m(\u001b[0m\u001b[0mdata_dff\u001b[0m\u001b[1;33m,\u001b[0m \u001b[1;33m[\u001b[0m\u001b[1;33m-\u001b[0m\u001b[1;36m1\u001b[0m\u001b[1;33m,\u001b[0m \u001b[1;36m25\u001b[0m\u001b[1;33m,\u001b[0m \u001b[1;36m6\u001b[0m\u001b[1;33m,\u001b[0m \u001b[1;36m1\u001b[0m\u001b[1;33m]\u001b[0m\u001b[1;33m)\u001b[0m\u001b[1;33m\u001b[0m\u001b[1;33m\u001b[0m\u001b[0m\n\u001b[0m",
      "\u001b[1;32m<__array_function__ internals>\u001b[0m in \u001b[0;36mreshape\u001b[1;34m(*args, **kwargs)\u001b[0m\n",
      "\u001b[1;32m~\\anaconda3\\envs\\npy38\\lib\\site-packages\\numpy\\core\\fromnumeric.py\u001b[0m in \u001b[0;36mreshape\u001b[1;34m(a, newshape, order)\u001b[0m\n\u001b[0;32m    299\u001b[0m            [5, 6]])\n\u001b[0;32m    300\u001b[0m     \"\"\"\n\u001b[1;32m--> 301\u001b[1;33m     \u001b[1;32mreturn\u001b[0m \u001b[0m_wrapfunc\u001b[0m\u001b[1;33m(\u001b[0m\u001b[0ma\u001b[0m\u001b[1;33m,\u001b[0m \u001b[1;34m'reshape'\u001b[0m\u001b[1;33m,\u001b[0m \u001b[0mnewshape\u001b[0m\u001b[1;33m,\u001b[0m \u001b[0morder\u001b[0m\u001b[1;33m=\u001b[0m\u001b[0morder\u001b[0m\u001b[1;33m)\u001b[0m\u001b[1;33m\u001b[0m\u001b[1;33m\u001b[0m\u001b[0m\n\u001b[0m\u001b[0;32m    302\u001b[0m \u001b[1;33m\u001b[0m\u001b[0m\n\u001b[0;32m    303\u001b[0m \u001b[1;33m\u001b[0m\u001b[0m\n",
      "\u001b[1;32m~\\anaconda3\\envs\\npy38\\lib\\site-packages\\numpy\\core\\fromnumeric.py\u001b[0m in \u001b[0;36m_wrapfunc\u001b[1;34m(obj, method, *args, **kwds)\u001b[0m\n\u001b[0;32m     56\u001b[0m     \u001b[0mbound\u001b[0m \u001b[1;33m=\u001b[0m \u001b[0mgetattr\u001b[0m\u001b[1;33m(\u001b[0m\u001b[0mobj\u001b[0m\u001b[1;33m,\u001b[0m \u001b[0mmethod\u001b[0m\u001b[1;33m,\u001b[0m \u001b[1;32mNone\u001b[0m\u001b[1;33m)\u001b[0m\u001b[1;33m\u001b[0m\u001b[1;33m\u001b[0m\u001b[0m\n\u001b[0;32m     57\u001b[0m     \u001b[1;32mif\u001b[0m \u001b[0mbound\u001b[0m \u001b[1;32mis\u001b[0m \u001b[1;32mNone\u001b[0m\u001b[1;33m:\u001b[0m\u001b[1;33m\u001b[0m\u001b[1;33m\u001b[0m\u001b[0m\n\u001b[1;32m---> 58\u001b[1;33m         \u001b[1;32mreturn\u001b[0m \u001b[0m_wrapit\u001b[0m\u001b[1;33m(\u001b[0m\u001b[0mobj\u001b[0m\u001b[1;33m,\u001b[0m \u001b[0mmethod\u001b[0m\u001b[1;33m,\u001b[0m \u001b[1;33m*\u001b[0m\u001b[0margs\u001b[0m\u001b[1;33m,\u001b[0m \u001b[1;33m**\u001b[0m\u001b[0mkwds\u001b[0m\u001b[1;33m)\u001b[0m\u001b[1;33m\u001b[0m\u001b[1;33m\u001b[0m\u001b[0m\n\u001b[0m\u001b[0;32m     59\u001b[0m \u001b[1;33m\u001b[0m\u001b[0m\n\u001b[0;32m     60\u001b[0m     \u001b[1;32mtry\u001b[0m\u001b[1;33m:\u001b[0m\u001b[1;33m\u001b[0m\u001b[1;33m\u001b[0m\u001b[0m\n",
      "\u001b[1;32m~\\anaconda3\\envs\\npy38\\lib\\site-packages\\numpy\\core\\fromnumeric.py\u001b[0m in \u001b[0;36m_wrapit\u001b[1;34m(obj, method, *args, **kwds)\u001b[0m\n\u001b[0;32m     49\u001b[0m         \u001b[1;32mif\u001b[0m \u001b[1;32mnot\u001b[0m \u001b[0misinstance\u001b[0m\u001b[1;33m(\u001b[0m\u001b[0mresult\u001b[0m\u001b[1;33m,\u001b[0m \u001b[0mmu\u001b[0m\u001b[1;33m.\u001b[0m\u001b[0mndarray\u001b[0m\u001b[1;33m)\u001b[0m\u001b[1;33m:\u001b[0m\u001b[1;33m\u001b[0m\u001b[1;33m\u001b[0m\u001b[0m\n\u001b[0;32m     50\u001b[0m             \u001b[0mresult\u001b[0m \u001b[1;33m=\u001b[0m \u001b[0masarray\u001b[0m\u001b[1;33m(\u001b[0m\u001b[0mresult\u001b[0m\u001b[1;33m)\u001b[0m\u001b[1;33m\u001b[0m\u001b[1;33m\u001b[0m\u001b[0m\n\u001b[1;32m---> 51\u001b[1;33m         \u001b[0mresult\u001b[0m \u001b[1;33m=\u001b[0m \u001b[0mwrap\u001b[0m\u001b[1;33m(\u001b[0m\u001b[0mresult\u001b[0m\u001b[1;33m)\u001b[0m\u001b[1;33m\u001b[0m\u001b[1;33m\u001b[0m\u001b[0m\n\u001b[0m\u001b[0;32m     52\u001b[0m     \u001b[1;32mreturn\u001b[0m \u001b[0mresult\u001b[0m\u001b[1;33m\u001b[0m\u001b[1;33m\u001b[0m\u001b[0m\n\u001b[0;32m     53\u001b[0m \u001b[1;33m\u001b[0m\u001b[0m\n",
      "\u001b[1;32m~\\anaconda3\\envs\\npy38\\lib\\site-packages\\pandas\\core\\generic.py\u001b[0m in \u001b[0;36m__array_wrap__\u001b[1;34m(self, result, context)\u001b[0m\n\u001b[0;32m   2023\u001b[0m         \u001b[1;31m# error: Argument 1 to \"NDFrame\" has incompatible type \"ndarray\";\u001b[0m\u001b[1;33m\u001b[0m\u001b[1;33m\u001b[0m\u001b[1;33m\u001b[0m\u001b[0m\n\u001b[0;32m   2024\u001b[0m         \u001b[1;31m# expected \"BlockManager\"\u001b[0m\u001b[1;33m\u001b[0m\u001b[1;33m\u001b[0m\u001b[1;33m\u001b[0m\u001b[0m\n\u001b[1;32m-> 2025\u001b[1;33m         return self._constructor(res, **d).__finalize__(  # type: ignore[arg-type]\n\u001b[0m\u001b[0;32m   2026\u001b[0m             \u001b[0mself\u001b[0m\u001b[1;33m,\u001b[0m \u001b[0mmethod\u001b[0m\u001b[1;33m=\u001b[0m\u001b[1;34m\"__array_wrap__\"\u001b[0m\u001b[1;33m\u001b[0m\u001b[1;33m\u001b[0m\u001b[0m\n\u001b[0;32m   2027\u001b[0m         )\n",
      "\u001b[1;32m~\\anaconda3\\envs\\npy38\\lib\\site-packages\\pandas\\core\\frame.py\u001b[0m in \u001b[0;36m__init__\u001b[1;34m(self, data, index, columns, dtype, copy)\u001b[0m\n\u001b[0;32m    670\u001b[0m                 )\n\u001b[0;32m    671\u001b[0m             \u001b[1;32melse\u001b[0m\u001b[1;33m:\u001b[0m\u001b[1;33m\u001b[0m\u001b[1;33m\u001b[0m\u001b[0m\n\u001b[1;32m--> 672\u001b[1;33m                 mgr = ndarray_to_mgr(\n\u001b[0m\u001b[0;32m    673\u001b[0m                     \u001b[0mdata\u001b[0m\u001b[1;33m,\u001b[0m\u001b[1;33m\u001b[0m\u001b[1;33m\u001b[0m\u001b[0m\n\u001b[0;32m    674\u001b[0m                     \u001b[0mindex\u001b[0m\u001b[1;33m,\u001b[0m\u001b[1;33m\u001b[0m\u001b[1;33m\u001b[0m\u001b[0m\n",
      "\u001b[1;32m~\\anaconda3\\envs\\npy38\\lib\\site-packages\\pandas\\core\\internals\\construction.py\u001b[0m in \u001b[0;36mndarray_to_mgr\u001b[1;34m(values, index, columns, dtype, copy, typ)\u001b[0m\n\u001b[0;32m    302\u001b[0m         \u001b[1;31m# by definition an array here\u001b[0m\u001b[1;33m\u001b[0m\u001b[1;33m\u001b[0m\u001b[1;33m\u001b[0m\u001b[0m\n\u001b[0;32m    303\u001b[0m         \u001b[1;31m# the dtypes will be coerced to a single dtype\u001b[0m\u001b[1;33m\u001b[0m\u001b[1;33m\u001b[0m\u001b[1;33m\u001b[0m\u001b[0m\n\u001b[1;32m--> 304\u001b[1;33m         \u001b[0mvalues\u001b[0m \u001b[1;33m=\u001b[0m \u001b[0m_prep_ndarray\u001b[0m\u001b[1;33m(\u001b[0m\u001b[0mvalues\u001b[0m\u001b[1;33m,\u001b[0m \u001b[0mcopy\u001b[0m\u001b[1;33m=\u001b[0m\u001b[0mcopy\u001b[0m\u001b[1;33m)\u001b[0m\u001b[1;33m\u001b[0m\u001b[1;33m\u001b[0m\u001b[0m\n\u001b[0m\u001b[0;32m    305\u001b[0m \u001b[1;33m\u001b[0m\u001b[0m\n\u001b[0;32m    306\u001b[0m     \u001b[1;32mif\u001b[0m \u001b[0mdtype\u001b[0m \u001b[1;32mis\u001b[0m \u001b[1;32mnot\u001b[0m \u001b[1;32mNone\u001b[0m \u001b[1;32mand\u001b[0m \u001b[1;32mnot\u001b[0m \u001b[0mis_dtype_equal\u001b[0m\u001b[1;33m(\u001b[0m\u001b[0mvalues\u001b[0m\u001b[1;33m.\u001b[0m\u001b[0mdtype\u001b[0m\u001b[1;33m,\u001b[0m \u001b[0mdtype\u001b[0m\u001b[1;33m)\u001b[0m\u001b[1;33m:\u001b[0m\u001b[1;33m\u001b[0m\u001b[1;33m\u001b[0m\u001b[0m\n",
      "\u001b[1;32m~\\anaconda3\\envs\\npy38\\lib\\site-packages\\pandas\\core\\internals\\construction.py\u001b[0m in \u001b[0;36m_prep_ndarray\u001b[1;34m(values, copy)\u001b[0m\n\u001b[0;32m    553\u001b[0m         \u001b[0mvalues\u001b[0m \u001b[1;33m=\u001b[0m \u001b[0mvalues\u001b[0m\u001b[1;33m.\u001b[0m\u001b[0mreshape\u001b[0m\u001b[1;33m(\u001b[0m\u001b[1;33m(\u001b[0m\u001b[0mvalues\u001b[0m\u001b[1;33m.\u001b[0m\u001b[0mshape\u001b[0m\u001b[1;33m[\u001b[0m\u001b[1;36m0\u001b[0m\u001b[1;33m]\u001b[0m\u001b[1;33m,\u001b[0m \u001b[1;36m1\u001b[0m\u001b[1;33m)\u001b[0m\u001b[1;33m)\u001b[0m\u001b[1;33m\u001b[0m\u001b[1;33m\u001b[0m\u001b[0m\n\u001b[0;32m    554\u001b[0m     \u001b[1;32melif\u001b[0m \u001b[0mvalues\u001b[0m\u001b[1;33m.\u001b[0m\u001b[0mndim\u001b[0m \u001b[1;33m!=\u001b[0m \u001b[1;36m2\u001b[0m\u001b[1;33m:\u001b[0m\u001b[1;33m\u001b[0m\u001b[1;33m\u001b[0m\u001b[0m\n\u001b[1;32m--> 555\u001b[1;33m         \u001b[1;32mraise\u001b[0m \u001b[0mValueError\u001b[0m\u001b[1;33m(\u001b[0m\u001b[1;34mf\"Must pass 2-d input. shape={values.shape}\"\u001b[0m\u001b[1;33m)\u001b[0m\u001b[1;33m\u001b[0m\u001b[1;33m\u001b[0m\u001b[0m\n\u001b[0m\u001b[0;32m    556\u001b[0m \u001b[1;33m\u001b[0m\u001b[0m\n\u001b[0;32m    557\u001b[0m     \u001b[1;32mreturn\u001b[0m \u001b[0mvalues\u001b[0m\u001b[1;33m\u001b[0m\u001b[1;33m\u001b[0m\u001b[0m\n",
      "\u001b[1;31mValueError\u001b[0m: Must pass 2-d input. shape=(1755, 25, 6, 1)"
     ]
    }
   ],
   "source": [
    "# CNN을 위해 25(지역구 수), 6(속성 수)의 이미지 형태로 변환\n",
    "data = np.reshape(data_dff, [-1, 25, 6, 1])"
   ]
  },
  {
   "cell_type": "code",
   "execution_count": null,
   "id": "f1d4eab8",
   "metadata": {},
   "outputs": [],
   "source": []
  },
  {
   "cell_type": "markdown",
   "id": "6831431a",
   "metadata": {},
   "source": [
    "CNN+RNN 모델"
   ]
  },
  {
   "cell_type": "code",
   "execution_count": null,
   "id": "6eda35c7",
   "metadata": {},
   "outputs": [],
   "source": [
    "X = tf.placeholder(np.float32, shape=[None, img_height, img_width, 1])\n",
    "conv1 = tf.layers.conv2d(inputs=X, filters=32, kernel_size=[2, 2], padding=\"same\", activation=tf.nn.relu)\n",
    "conv2 = tf.layers.conv2d(inputs=conv1, filters=64, kernel_size=[2, 2], padding=\"same\", activation=tf.nn.relu)\n",
    "conv3 = tf.layers.conv2d(inputs=conv2, filters=128, kernel_size=[2, 2], padding=\"same\", activation=tf.nn.relu)\n",
    "pool3_flat = tf.reshape(conv3, [-1, 6 * 25 * 128])\n",
    "fc1 = tf.layers.dense(inputs=pool3_flat, units=512, activation=tf.nn.relu)\n",
    "fc2 = tf.layers.dense(inputs=fc1, units=512, activation=tf.nn.relu)\n",
    "output = tf.layers.dense(inputs=fc2, units=150)"
   ]
  },
  {
   "cell_type": "code",
   "execution_count": null,
   "id": "cccee364",
   "metadata": {},
   "outputs": [],
   "source": [
    "# train Parameters\n",
    "seq_length = 7\n",
    "data_dim = 6\n",
    "hidden_dim = 1024\n",
    "output_dim = 1024\n",
    "num_layers = 2\n",
    "\n",
    "trainX =[]\n",
    "trainY = trainY[seq_length:,:]\n",
    "for i in range(0, len(x) - seq_length):\n",
    "    _x = x[i:i + seq_length]\n",
    "    _y = x[i + seq_length]\n",
    "    trainX.append(_x)\n",
    "trainY = np.reshape(trainY,[-1,150])\n",
    "np.array(trainX).shape, trainY.shape\n",
    "\n",
    "testX = []\n",
    "testY = testY[seq_length:,:]\n",
    "for i in range(0, len(test) - seq_length + 1):\n",
    "    _x = test[i:i + seq_length]\n",
    "    testX.append(_x)\n",
    "testY = np.reshape(testY,[-1,150])\n",
    "\n",
    "np.array(testX).shape, testY.shape\n",
    "\n",
    "X = tf.placeholder(tf.float32, [None, seq_length, 150])\n",
    "Y = tf.placeholder(tf.float32, [None, 150])\n",
    "\n",
    "cell = tf.contrib.rnn.MultiRNNCell([(tf.contrib.rnn.BasicLSTMCell(hidden_dim,state_is_tuple=True))\n",
    "                                   for i in range(num_layers)], state_is_tuple=True)\n",
    "drop = tf.contrib.rnn.DropoutWrapper(cell, output_keep_prob=0.7) # 드랍아웃한 셀\n",
    "outputs, _states = tf.nn.dynamic_rnn(drop, X, dtype=tf.float32)\n",
    "\n",
    "Y_pred = tf.contrib.layers.fully_connected(\n",
    "    outputs[:, -1], output_dim, activation_fn=None)\n",
    "\n",
    "W1 = tf.Variable(tf.truncated_normal([output_dim, 150], stddev=0.1))\n",
    "b1 = tf.variable(tf.random_normal([150]))\n",
    "z1 = tf.matmul(Y_pred, W1) + b1\n",
    "\n",
    "logits = tf.matmul(Y_pred, W1) + b1"
   ]
  },
  {
   "cell_type": "code",
   "execution_count": null,
   "id": "279f6dee",
   "metadata": {},
   "outputs": [],
   "source": [
    "learning_rate = 0.0001\n",
    "iterations = 2500\n",
    "\n",
    "# cost/loss\n",
    "loss = tf.reduce_sum(tf.square(logits - Y)) # sum\n",
    "# optimizer\n",
    "optimizer = tf.train.AdamOptimizer(learning_rate)\n",
    "train = optimizer.minimize(loss)"
   ]
  },
  {
   "cell_type": "code",
   "execution_count": null,
   "id": "50ed279b",
   "metadata": {},
   "outputs": [],
   "source": [
    "plt.scatter(sb[:,2], sb[:,4])\n",
    "plt.xlabel('PREDICTION')\n",
    "plt.ylabel('ACTUAL')\n",
    "plt.show()\n",
    "print(np.corrcoef(np.array(sb[:,2], dtype=int), np.array(sb[:,4], dtype=int)))\n",
    "fig = plt.figure(figsize=(4, 2))\n",
    "plt.plot(test1[0:100, i], label='test')\n",
    "plt.plot(predict1[0:100, i], label='predict')\n",
    "plt.legend()\n",
    "plt.show()"
   ]
  },
  {
   "cell_type": "code",
   "execution_count": null,
   "id": "fd7990da",
   "metadata": {},
   "outputs": [],
   "source": []
  },
  {
   "cell_type": "markdown",
   "id": "af44687a",
   "metadata": {},
   "source": [
    "시각화"
   ]
  },
  {
   "cell_type": "code",
   "execution_count": null,
   "id": "62457523",
   "metadata": {},
   "outputs": [],
   "source": [
    "plt.scatter(sb[:,3], sb[:,5])\n",
    "plt.xlabel('PREDICTION')\n",
    "plt.ylabel('ACTUAL')\n",
    "plt.show()\n",
    "print(np.corrcoef(np.array(sb[:,3], dtype=int), np.array(sb[:,5], dtype=int)))\n",
    "fig = plt.figure(figsize=(4, 2))\n",
    "plt.plot(test1[0:100, i], label='test')\n",
    "plt.plot(predict1[0:100, i], label='predict')\n",
    "plt.legend()\n",
    "plt.show()"
   ]
  },
  {
   "cell_type": "code",
   "execution_count": null,
   "id": "28deb0c2",
   "metadata": {},
   "outputs": [],
   "source": [
    "geo_path = \"skorea_municipalities_geo_simple.json\"\n",
    "geo_str = json.load(open(geo_path, encoding='utf-8'))\n",
    "XY = pd.read_csv('XY.csv')\n",
    "XY = pd.DataFrame(data = np.array(XY)[:,2:4], index=np.array(XY)[:,0], columns=['위도', '경도'])\n",
    "data = 20171104\n",
    "map1111_1 = folium.Map(location=[37,5702, 126,982], zoom_start=11, tiles='openstreetmap')\n",
    "map1111_1.choropleth(geo_str, data = data[data['측정일시']==date]['예상미세'],\n",
    "                     columns = [data[data['측정일시']==date].values[:,1], data[data['측정일시']==date]['예상미세']],\n",
    "                     line_color='white',line_weight=4, fill_color= 'YlOrRd', key_on = 'feature.id',\n",
    "                     threshold_scale=[0, 40, 80, 90, 100, 120])\n",
    "\n",
    "print(date, \" 예측 미세먼지\")\n",
    "for n in range(25):\n",
    "    folium.Marker(location = [float(XY.values[n, 0]), float(XY.values[n, 1])], icon=Divlcon(\n",
    "        icon_size=(0,0),\n",
    "        icon_anchor=(0,0),\n",
    "        html='<div style=\"font-size: 10pt: font-weight:blod ; color : black\">{}</div>'\n",
    "        .format(int(data[data['측정일시']==date].values[n, 2])),\n",
    "        )).add_to(map1111_1)\n",
    "map1111_1"
   ]
  },
  {
   "cell_type": "code",
   "execution_count": null,
   "id": "fccc3572",
   "metadata": {},
   "outputs": [],
   "source": []
  },
  {
   "cell_type": "code",
   "execution_count": null,
   "id": "f9693369",
   "metadata": {},
   "outputs": [],
   "source": []
  },
  {
   "cell_type": "markdown",
   "id": "770b2d3c",
   "metadata": {},
   "source": [
    "LSTM 모델"
   ]
  },
  {
   "cell_type": "code",
   "execution_count": null,
   "id": "fc542297",
   "metadata": {},
   "outputs": [],
   "source": [
    "# LSTM 모델 구축\n",
    "model = keras.Sequential([\n",
    "    keras.layers.Bidirectional(keras.layers.LSTM(64, return_sequences=True)),\n",
    "    keras.layers.Dense(32),\n",
    "    keras.layers.Dense(14),\n",
    "])"
   ]
  },
  {
   "cell_type": "code",
   "execution_count": null,
   "id": "4b244f06",
   "metadata": {},
   "outputs": [],
   "source": [
    "# 인공신경망 컴파일\n",
    "model.compile(optimizer=\"adam\", metrics=[\"mae\"], loss=\"mse\")"
   ]
  },
  {
   "cell_type": "code",
   "execution_count": null,
   "id": "90b9ac50",
   "metadata": {},
   "outputs": [],
   "source": [
    "#인공신경망 학습\n",
    "print(\"\\n=========== TRAINING START ===========\")\n",
    "early_stop = keras.callbacks.EarlyStopping(monitor='val_loss', patience=10)\n",
    "history = model.fit(trainX, trainY, epochs=50,\n",
    "                    validation_data=(testX, testY), \n",
    "                    callbacks=[early_stop])"
   ]
  },
  {
   "cell_type": "code",
   "execution_count": null,
   "id": "86113228",
   "metadata": {},
   "outputs": [],
   "source": [
    "plot_model(model, to_file='model_shapes.png', show_shapes=True)"
   ]
  },
  {
   "cell_type": "code",
   "execution_count": null,
   "id": "845942d7",
   "metadata": {},
   "outputs": [],
   "source": [
    "plt.plot(history.history['accuracy'], label='accuracy')\n",
    "plt.plot(history.history['loss'], label='loss')\n",
    "plt.plot(history.history['val_accuracy'], label='val_accuracy')\n",
    "plt.plot(history.history['val_loss'], label='val_loss')\n",
    "plt.xlabel('EPOCH')\n",
    "plt.legend(loc='upper left')\n",
    "plt.show()"
   ]
  },
  {
   "cell_type": "code",
   "execution_count": null,
   "id": "d376a7c8",
   "metadata": {},
   "outputs": [],
   "source": []
  }
 ],
 "metadata": {
  "kernelspec": {
   "display_name": "Python 3 (ipykernel)",
   "language": "python",
   "name": "python3"
  },
  "language_info": {
   "codemirror_mode": {
    "name": "ipython",
    "version": 3
   },
   "file_extension": ".py",
   "mimetype": "text/x-python",
   "name": "python",
   "nbconvert_exporter": "python",
   "pygments_lexer": "ipython3",
   "version": "3.8.12"
  },
  "nbTranslate": {
   "displayLangs": [
    "*"
   ],
   "hotkey": "alt-t",
   "langInMainMenu": true,
   "sourceLang": "en",
   "targetLang": "fr",
   "useGoogleTranslate": true
  },
  "toc": {
   "base_numbering": 1,
   "nav_menu": {},
   "number_sections": true,
   "sideBar": true,
   "skip_h1_title": false,
   "title_cell": "Table of Contents",
   "title_sidebar": "Contents",
   "toc_cell": false,
   "toc_position": {},
   "toc_section_display": true,
   "toc_window_display": false
  },
  "varInspector": {
   "cols": {
    "lenName": 16,
    "lenType": 16,
    "lenVar": 40
   },
   "kernels_config": {
    "python": {
     "delete_cmd_postfix": "",
     "delete_cmd_prefix": "del ",
     "library": "var_list.py",
     "varRefreshCmd": "print(var_dic_list())"
    },
    "r": {
     "delete_cmd_postfix": ") ",
     "delete_cmd_prefix": "rm(",
     "library": "var_list.r",
     "varRefreshCmd": "cat(var_dic_list()) "
    }
   },
   "types_to_exclude": [
    "module",
    "function",
    "builtin_function_or_method",
    "instance",
    "_Feature"
   ],
   "window_display": false
  }
 },
 "nbformat": 4,
 "nbformat_minor": 5
}
